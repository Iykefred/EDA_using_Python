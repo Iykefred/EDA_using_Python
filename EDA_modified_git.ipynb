{
 "cells": [
  {
   "cell_type": "markdown",
   "id": "Zs7Du3URzpM0",
   "metadata": {
    "id": "Zs7Du3URzpM0"
   },
   "source": []
  },
  {
   "cell_type": "markdown",
   "id": "85971df1",
   "metadata": {},
   "source": [
    "# INTRODUCTION"
   ]
  },
  {
   "cell_type": "markdown",
   "id": "a3cb7206",
   "metadata": {},
   "source": [
    "Due to customers changing demand and increased competition among restaurants, ‘ratings’ has become vital for the business to succeed. Restaurant rating holds the key element of differentiation among competitors, this has been regarded as a valuable asset. One of the strategies is to focus on improving their ratings to add value to the restaurants. We want to observe whether or not ‘parking lot facility’ provided by the restaurant helps the user (based on their description i.e. the type of user) in increasing the overall rating of a restaurant. This way we will be able to decide whether or not the restaurant should work on improving its parking lot for higher ratings based on customer segmentation. This will be a good business model considering the high prevalence of restaurants throughout the world."
   ]
  },
  {
   "cell_type": "markdown",
   "id": "5d664d85",
   "metadata": {},
   "source": [
    "# 1. Data Selection"
   ]
  },
  {
   "cell_type": "code",
   "execution_count": 1,
   "id": "-qzOj9mSnwfP",
   "metadata": {
    "id": "-qzOj9mSnwfP"
   },
   "outputs": [],
   "source": [
    "import pandas as pd\n",
    "from io import BytesIO\n",
    "from zipfile import ZipFile\n",
    "from urllib.request import urlopen\n",
    "import matplotlib.pyplot as plt\n",
    "import matplotlib"
   ]
  },
  {
   "cell_type": "markdown",
   "id": "QQopDKy3v-zb",
   "metadata": {
    "id": "QQopDKy3v-zb"
   },
   "source": [
    "This is the major overview or description of the data.\n",
    "\n",
    "The data which we will be using contains many important attributes of top-end restaurants from Mexico and customer profiles. \n",
    "\n",
    "It contains multiple CSV data files, but we will be using 3 of them (chefmozparking.csv, userprofile.csv and rating_final.csv) to find the relationship between the user (based on its description) providing high ratings to a restaurant based on its parking lot. \n",
    "\n",
    "The \"rating_final.csv\" file contains the overall rating of the user along with food_rating and service_rating which is considered to be ideal while considering the performance metric for evaluating the restaurant. Another file \"chefmozparking.csv\" contains details of the parking lot whether it is public or street or no parking, etc.\n",
    "Finally the \"userprofile.csv\", as the name suggest contains the description about the user of the restaurant (such as weight, height, marital_status, transport, smoker, etc).\n",
    "\n",
    "The data is taken from the following source (UCI ML repository):\n",
    "\n",
    "https://archive.ics.uci.edu/ml/datasets/Restaurant+&+consumer+data#"
   ]
  },
  {
   "cell_type": "code",
   "execution_count": 2,
   "id": "zJ2qw_BIuIR2",
   "metadata": {
    "id": "zJ2qw_BIuIR2"
   },
   "outputs": [],
   "source": [
    "resp = urlopen('https://archive.ics.uci.edu/ml/machine-learning-databases/00232/RCdata.zip')\n",
    "zf = ZipFile(BytesIO(resp.read()))\n",
    "df1 = pd.read_csv(zf.open('chefmozparking.csv'))\n",
    "df2 = pd.read_csv(zf.open(\"rating_final.csv\"))\n",
    "df3 = pd.read_csv(zf.open(\"userprofile.csv\"))"
   ]
  },
  {
   "cell_type": "code",
   "execution_count": 3,
   "id": "O1xLISV2y5yp",
   "metadata": {
    "colab": {
     "base_uri": "https://localhost:8080/",
     "height": 206
    },
    "id": "O1xLISV2y5yp",
    "outputId": "702aa823-c2d6-41f2-8c65-762979e2f451"
   },
   "outputs": [
    {
     "data": {
      "text/html": [
       "<div>\n",
       "<style scoped>\n",
       "    .dataframe tbody tr th:only-of-type {\n",
       "        vertical-align: middle;\n",
       "    }\n",
       "\n",
       "    .dataframe tbody tr th {\n",
       "        vertical-align: top;\n",
       "    }\n",
       "\n",
       "    .dataframe thead th {\n",
       "        text-align: right;\n",
       "    }\n",
       "</style>\n",
       "<table border=\"1\" class=\"dataframe\">\n",
       "  <thead>\n",
       "    <tr style=\"text-align: right;\">\n",
       "      <th></th>\n",
       "      <th>placeID</th>\n",
       "      <th>parking_lot</th>\n",
       "    </tr>\n",
       "  </thead>\n",
       "  <tbody>\n",
       "    <tr>\n",
       "      <th>0</th>\n",
       "      <td>135111</td>\n",
       "      <td>public</td>\n",
       "    </tr>\n",
       "    <tr>\n",
       "      <th>1</th>\n",
       "      <td>135110</td>\n",
       "      <td>none</td>\n",
       "    </tr>\n",
       "    <tr>\n",
       "      <th>2</th>\n",
       "      <td>135109</td>\n",
       "      <td>none</td>\n",
       "    </tr>\n",
       "    <tr>\n",
       "      <th>3</th>\n",
       "      <td>135108</td>\n",
       "      <td>none</td>\n",
       "    </tr>\n",
       "    <tr>\n",
       "      <th>4</th>\n",
       "      <td>135107</td>\n",
       "      <td>none</td>\n",
       "    </tr>\n",
       "  </tbody>\n",
       "</table>\n",
       "</div>"
      ],
      "text/plain": [
       "   placeID parking_lot\n",
       "0   135111      public\n",
       "1   135110        none\n",
       "2   135109        none\n",
       "3   135108        none\n",
       "4   135107        none"
      ]
     },
     "execution_count": 3,
     "metadata": {},
     "output_type": "execute_result"
    }
   ],
   "source": [
    "df1.head()"
   ]
  },
  {
   "cell_type": "code",
   "execution_count": 4,
   "id": "WMSERTj-y_H2",
   "metadata": {
    "colab": {
     "base_uri": "https://localhost:8080/",
     "height": 206
    },
    "id": "WMSERTj-y_H2",
    "outputId": "3bb48890-48f5-4563-9a36-2510ee61a5d8"
   },
   "outputs": [
    {
     "data": {
      "text/html": [
       "<div>\n",
       "<style scoped>\n",
       "    .dataframe tbody tr th:only-of-type {\n",
       "        vertical-align: middle;\n",
       "    }\n",
       "\n",
       "    .dataframe tbody tr th {\n",
       "        vertical-align: top;\n",
       "    }\n",
       "\n",
       "    .dataframe thead th {\n",
       "        text-align: right;\n",
       "    }\n",
       "</style>\n",
       "<table border=\"1\" class=\"dataframe\">\n",
       "  <thead>\n",
       "    <tr style=\"text-align: right;\">\n",
       "      <th></th>\n",
       "      <th>userID</th>\n",
       "      <th>placeID</th>\n",
       "      <th>rating</th>\n",
       "      <th>food_rating</th>\n",
       "      <th>service_rating</th>\n",
       "    </tr>\n",
       "  </thead>\n",
       "  <tbody>\n",
       "    <tr>\n",
       "      <th>0</th>\n",
       "      <td>U1077</td>\n",
       "      <td>135085</td>\n",
       "      <td>2</td>\n",
       "      <td>2</td>\n",
       "      <td>2</td>\n",
       "    </tr>\n",
       "    <tr>\n",
       "      <th>1</th>\n",
       "      <td>U1077</td>\n",
       "      <td>135038</td>\n",
       "      <td>2</td>\n",
       "      <td>2</td>\n",
       "      <td>1</td>\n",
       "    </tr>\n",
       "    <tr>\n",
       "      <th>2</th>\n",
       "      <td>U1077</td>\n",
       "      <td>132825</td>\n",
       "      <td>2</td>\n",
       "      <td>2</td>\n",
       "      <td>2</td>\n",
       "    </tr>\n",
       "    <tr>\n",
       "      <th>3</th>\n",
       "      <td>U1077</td>\n",
       "      <td>135060</td>\n",
       "      <td>1</td>\n",
       "      <td>2</td>\n",
       "      <td>2</td>\n",
       "    </tr>\n",
       "    <tr>\n",
       "      <th>4</th>\n",
       "      <td>U1068</td>\n",
       "      <td>135104</td>\n",
       "      <td>1</td>\n",
       "      <td>1</td>\n",
       "      <td>2</td>\n",
       "    </tr>\n",
       "  </tbody>\n",
       "</table>\n",
       "</div>"
      ],
      "text/plain": [
       "  userID  placeID  rating  food_rating  service_rating\n",
       "0  U1077   135085       2            2               2\n",
       "1  U1077   135038       2            2               1\n",
       "2  U1077   132825       2            2               2\n",
       "3  U1077   135060       1            2               2\n",
       "4  U1068   135104       1            1               2"
      ]
     },
     "execution_count": 4,
     "metadata": {},
     "output_type": "execute_result"
    }
   ],
   "source": [
    "df2.head()"
   ]
  },
  {
   "cell_type": "code",
   "execution_count": 5,
   "id": "KFJ-NTwKk9D2",
   "metadata": {
    "colab": {
     "base_uri": "https://localhost:8080/",
     "height": 322
    },
    "id": "KFJ-NTwKk9D2",
    "outputId": "44a41c25-4631-4589-a03c-67527a533a50"
   },
   "outputs": [
    {
     "data": {
      "text/html": [
       "<div>\n",
       "<style scoped>\n",
       "    .dataframe tbody tr th:only-of-type {\n",
       "        vertical-align: middle;\n",
       "    }\n",
       "\n",
       "    .dataframe tbody tr th {\n",
       "        vertical-align: top;\n",
       "    }\n",
       "\n",
       "    .dataframe thead th {\n",
       "        text-align: right;\n",
       "    }\n",
       "</style>\n",
       "<table border=\"1\" class=\"dataframe\">\n",
       "  <thead>\n",
       "    <tr style=\"text-align: right;\">\n",
       "      <th></th>\n",
       "      <th>userID</th>\n",
       "      <th>latitude</th>\n",
       "      <th>longitude</th>\n",
       "      <th>smoker</th>\n",
       "      <th>drink_level</th>\n",
       "      <th>dress_preference</th>\n",
       "      <th>ambience</th>\n",
       "      <th>transport</th>\n",
       "      <th>marital_status</th>\n",
       "      <th>hijos</th>\n",
       "      <th>birth_year</th>\n",
       "      <th>interest</th>\n",
       "      <th>personality</th>\n",
       "      <th>religion</th>\n",
       "      <th>activity</th>\n",
       "      <th>color</th>\n",
       "      <th>weight</th>\n",
       "      <th>budget</th>\n",
       "      <th>height</th>\n",
       "    </tr>\n",
       "  </thead>\n",
       "  <tbody>\n",
       "    <tr>\n",
       "      <th>0</th>\n",
       "      <td>U1001</td>\n",
       "      <td>22.139997</td>\n",
       "      <td>-100.978803</td>\n",
       "      <td>false</td>\n",
       "      <td>abstemious</td>\n",
       "      <td>informal</td>\n",
       "      <td>family</td>\n",
       "      <td>on foot</td>\n",
       "      <td>single</td>\n",
       "      <td>independent</td>\n",
       "      <td>1989</td>\n",
       "      <td>variety</td>\n",
       "      <td>thrifty-protector</td>\n",
       "      <td>none</td>\n",
       "      <td>student</td>\n",
       "      <td>black</td>\n",
       "      <td>69</td>\n",
       "      <td>medium</td>\n",
       "      <td>1.77</td>\n",
       "    </tr>\n",
       "    <tr>\n",
       "      <th>1</th>\n",
       "      <td>U1002</td>\n",
       "      <td>22.150087</td>\n",
       "      <td>-100.983325</td>\n",
       "      <td>false</td>\n",
       "      <td>abstemious</td>\n",
       "      <td>informal</td>\n",
       "      <td>family</td>\n",
       "      <td>public</td>\n",
       "      <td>single</td>\n",
       "      <td>independent</td>\n",
       "      <td>1990</td>\n",
       "      <td>technology</td>\n",
       "      <td>hunter-ostentatious</td>\n",
       "      <td>Catholic</td>\n",
       "      <td>student</td>\n",
       "      <td>red</td>\n",
       "      <td>40</td>\n",
       "      <td>low</td>\n",
       "      <td>1.87</td>\n",
       "    </tr>\n",
       "    <tr>\n",
       "      <th>2</th>\n",
       "      <td>U1003</td>\n",
       "      <td>22.119847</td>\n",
       "      <td>-100.946527</td>\n",
       "      <td>false</td>\n",
       "      <td>social drinker</td>\n",
       "      <td>formal</td>\n",
       "      <td>family</td>\n",
       "      <td>public</td>\n",
       "      <td>single</td>\n",
       "      <td>independent</td>\n",
       "      <td>1989</td>\n",
       "      <td>none</td>\n",
       "      <td>hard-worker</td>\n",
       "      <td>Catholic</td>\n",
       "      <td>student</td>\n",
       "      <td>blue</td>\n",
       "      <td>60</td>\n",
       "      <td>low</td>\n",
       "      <td>1.69</td>\n",
       "    </tr>\n",
       "    <tr>\n",
       "      <th>3</th>\n",
       "      <td>U1004</td>\n",
       "      <td>18.867000</td>\n",
       "      <td>-99.183000</td>\n",
       "      <td>false</td>\n",
       "      <td>abstemious</td>\n",
       "      <td>informal</td>\n",
       "      <td>family</td>\n",
       "      <td>public</td>\n",
       "      <td>single</td>\n",
       "      <td>independent</td>\n",
       "      <td>1940</td>\n",
       "      <td>variety</td>\n",
       "      <td>hard-worker</td>\n",
       "      <td>none</td>\n",
       "      <td>professional</td>\n",
       "      <td>green</td>\n",
       "      <td>44</td>\n",
       "      <td>medium</td>\n",
       "      <td>1.53</td>\n",
       "    </tr>\n",
       "    <tr>\n",
       "      <th>4</th>\n",
       "      <td>U1005</td>\n",
       "      <td>22.183477</td>\n",
       "      <td>-100.959891</td>\n",
       "      <td>false</td>\n",
       "      <td>abstemious</td>\n",
       "      <td>no preference</td>\n",
       "      <td>family</td>\n",
       "      <td>public</td>\n",
       "      <td>single</td>\n",
       "      <td>independent</td>\n",
       "      <td>1992</td>\n",
       "      <td>none</td>\n",
       "      <td>thrifty-protector</td>\n",
       "      <td>Catholic</td>\n",
       "      <td>student</td>\n",
       "      <td>black</td>\n",
       "      <td>65</td>\n",
       "      <td>medium</td>\n",
       "      <td>1.69</td>\n",
       "    </tr>\n",
       "  </tbody>\n",
       "</table>\n",
       "</div>"
      ],
      "text/plain": [
       "  userID   latitude   longitude smoker     drink_level dress_preference  \\\n",
       "0  U1001  22.139997 -100.978803  false      abstemious         informal   \n",
       "1  U1002  22.150087 -100.983325  false      abstemious         informal   \n",
       "2  U1003  22.119847 -100.946527  false  social drinker           formal   \n",
       "3  U1004  18.867000  -99.183000  false      abstemious         informal   \n",
       "4  U1005  22.183477 -100.959891  false      abstemious    no preference   \n",
       "\n",
       "  ambience transport marital_status        hijos  birth_year    interest  \\\n",
       "0   family   on foot         single  independent        1989     variety   \n",
       "1   family    public         single  independent        1990  technology   \n",
       "2   family    public         single  independent        1989        none   \n",
       "3   family    public         single  independent        1940     variety   \n",
       "4   family    public         single  independent        1992        none   \n",
       "\n",
       "           personality  religion      activity  color  weight  budget  height  \n",
       "0    thrifty-protector      none       student  black      69  medium    1.77  \n",
       "1  hunter-ostentatious  Catholic       student    red      40     low    1.87  \n",
       "2          hard-worker  Catholic       student   blue      60     low    1.69  \n",
       "3          hard-worker      none  professional  green      44  medium    1.53  \n",
       "4    thrifty-protector  Catholic       student  black      65  medium    1.69  "
      ]
     },
     "execution_count": 5,
     "metadata": {},
     "output_type": "execute_result"
    }
   ],
   "source": [
    "df3.head()"
   ]
  },
  {
   "cell_type": "markdown",
   "id": "JD5Hj4RmRpld",
   "metadata": {
    "id": "JD5Hj4RmRpld"
   },
   "source": [
    "# 2. Data Preparation"
   ]
  },
  {
   "cell_type": "markdown",
   "id": "U3kBAv6zRw1h",
   "metadata": {
    "id": "U3kBAv6zRw1h"
   },
   "source": [
    "### a. Merging the datasets\n",
    "\n",
    "We will be merging both the datasets based on the common column placeID"
   ]
  },
  {
   "cell_type": "code",
   "execution_count": 6,
   "id": "KpFFf_EGRrlQ",
   "metadata": {
    "colab": {
     "base_uri": "https://localhost:8080/",
     "height": 206
    },
    "id": "KpFFf_EGRrlQ",
    "outputId": "99d7caeb-8f6d-4841-eb2d-0113774fbdb1"
   },
   "outputs": [
    {
     "data": {
      "text/html": [
       "<div>\n",
       "<style scoped>\n",
       "    .dataframe tbody tr th:only-of-type {\n",
       "        vertical-align: middle;\n",
       "    }\n",
       "\n",
       "    .dataframe tbody tr th {\n",
       "        vertical-align: top;\n",
       "    }\n",
       "\n",
       "    .dataframe thead th {\n",
       "        text-align: right;\n",
       "    }\n",
       "</style>\n",
       "<table border=\"1\" class=\"dataframe\">\n",
       "  <thead>\n",
       "    <tr style=\"text-align: right;\">\n",
       "      <th></th>\n",
       "      <th>placeID</th>\n",
       "      <th>parking_lot</th>\n",
       "      <th>userID</th>\n",
       "      <th>rating</th>\n",
       "      <th>food_rating</th>\n",
       "      <th>service_rating</th>\n",
       "    </tr>\n",
       "  </thead>\n",
       "  <tbody>\n",
       "    <tr>\n",
       "      <th>0</th>\n",
       "      <td>135111</td>\n",
       "      <td>public</td>\n",
       "      <td>NaN</td>\n",
       "      <td>NaN</td>\n",
       "      <td>NaN</td>\n",
       "      <td>NaN</td>\n",
       "    </tr>\n",
       "    <tr>\n",
       "      <th>1</th>\n",
       "      <td>135110</td>\n",
       "      <td>none</td>\n",
       "      <td>NaN</td>\n",
       "      <td>NaN</td>\n",
       "      <td>NaN</td>\n",
       "      <td>NaN</td>\n",
       "    </tr>\n",
       "    <tr>\n",
       "      <th>2</th>\n",
       "      <td>135109</td>\n",
       "      <td>none</td>\n",
       "      <td>U1030</td>\n",
       "      <td>0.0</td>\n",
       "      <td>0.0</td>\n",
       "      <td>0.0</td>\n",
       "    </tr>\n",
       "    <tr>\n",
       "      <th>3</th>\n",
       "      <td>135109</td>\n",
       "      <td>none</td>\n",
       "      <td>U1020</td>\n",
       "      <td>2.0</td>\n",
       "      <td>2.0</td>\n",
       "      <td>1.0</td>\n",
       "    </tr>\n",
       "    <tr>\n",
       "      <th>4</th>\n",
       "      <td>135109</td>\n",
       "      <td>none</td>\n",
       "      <td>U1051</td>\n",
       "      <td>1.0</td>\n",
       "      <td>1.0</td>\n",
       "      <td>1.0</td>\n",
       "    </tr>\n",
       "  </tbody>\n",
       "</table>\n",
       "</div>"
      ],
      "text/plain": [
       "   placeID parking_lot userID  rating  food_rating  service_rating\n",
       "0   135111      public    NaN     NaN          NaN             NaN\n",
       "1   135110        none    NaN     NaN          NaN             NaN\n",
       "2   135109        none  U1030     0.0          0.0             0.0\n",
       "3   135109        none  U1020     2.0          2.0             1.0\n",
       "4   135109        none  U1051     1.0          1.0             1.0"
      ]
     },
     "execution_count": 6,
     "metadata": {},
     "output_type": "execute_result"
    }
   ],
   "source": [
    "df_temp = pd.merge(df1, df2, on=\"placeID\", how=\"left\")\n",
    "df_temp.head()"
   ]
  },
  {
   "cell_type": "code",
   "execution_count": 7,
   "id": "8ApuT4y8lPL-",
   "metadata": {
    "colab": {
     "base_uri": "https://localhost:8080/",
     "height": 334
    },
    "id": "8ApuT4y8lPL-",
    "outputId": "8d3f3288-ddad-445b-a6b2-c6fb1feb2bd6"
   },
   "outputs": [
    {
     "data": {
      "text/html": [
       "<div>\n",
       "<style scoped>\n",
       "    .dataframe tbody tr th:only-of-type {\n",
       "        vertical-align: middle;\n",
       "    }\n",
       "\n",
       "    .dataframe tbody tr th {\n",
       "        vertical-align: top;\n",
       "    }\n",
       "\n",
       "    .dataframe thead th {\n",
       "        text-align: right;\n",
       "    }\n",
       "</style>\n",
       "<table border=\"1\" class=\"dataframe\">\n",
       "  <thead>\n",
       "    <tr style=\"text-align: right;\">\n",
       "      <th></th>\n",
       "      <th>placeID</th>\n",
       "      <th>parking_lot</th>\n",
       "      <th>userID</th>\n",
       "      <th>rating</th>\n",
       "      <th>food_rating</th>\n",
       "      <th>service_rating</th>\n",
       "      <th>latitude</th>\n",
       "      <th>longitude</th>\n",
       "      <th>smoker</th>\n",
       "      <th>drink_level</th>\n",
       "      <th>...</th>\n",
       "      <th>hijos</th>\n",
       "      <th>birth_year</th>\n",
       "      <th>interest</th>\n",
       "      <th>personality</th>\n",
       "      <th>religion</th>\n",
       "      <th>activity</th>\n",
       "      <th>color</th>\n",
       "      <th>weight</th>\n",
       "      <th>budget</th>\n",
       "      <th>height</th>\n",
       "    </tr>\n",
       "  </thead>\n",
       "  <tbody>\n",
       "    <tr>\n",
       "      <th>0</th>\n",
       "      <td>135111</td>\n",
       "      <td>public</td>\n",
       "      <td>NaN</td>\n",
       "      <td>NaN</td>\n",
       "      <td>NaN</td>\n",
       "      <td>NaN</td>\n",
       "      <td>NaN</td>\n",
       "      <td>NaN</td>\n",
       "      <td>NaN</td>\n",
       "      <td>NaN</td>\n",
       "      <td>...</td>\n",
       "      <td>NaN</td>\n",
       "      <td>NaN</td>\n",
       "      <td>NaN</td>\n",
       "      <td>NaN</td>\n",
       "      <td>NaN</td>\n",
       "      <td>NaN</td>\n",
       "      <td>NaN</td>\n",
       "      <td>NaN</td>\n",
       "      <td>NaN</td>\n",
       "      <td>NaN</td>\n",
       "    </tr>\n",
       "    <tr>\n",
       "      <th>1</th>\n",
       "      <td>135110</td>\n",
       "      <td>none</td>\n",
       "      <td>NaN</td>\n",
       "      <td>NaN</td>\n",
       "      <td>NaN</td>\n",
       "      <td>NaN</td>\n",
       "      <td>NaN</td>\n",
       "      <td>NaN</td>\n",
       "      <td>NaN</td>\n",
       "      <td>NaN</td>\n",
       "      <td>...</td>\n",
       "      <td>NaN</td>\n",
       "      <td>NaN</td>\n",
       "      <td>NaN</td>\n",
       "      <td>NaN</td>\n",
       "      <td>NaN</td>\n",
       "      <td>NaN</td>\n",
       "      <td>NaN</td>\n",
       "      <td>NaN</td>\n",
       "      <td>NaN</td>\n",
       "      <td>NaN</td>\n",
       "    </tr>\n",
       "    <tr>\n",
       "      <th>2</th>\n",
       "      <td>135109</td>\n",
       "      <td>none</td>\n",
       "      <td>U1030</td>\n",
       "      <td>0.0</td>\n",
       "      <td>0.0</td>\n",
       "      <td>0.0</td>\n",
       "      <td>18.844818</td>\n",
       "      <td>-99.182758</td>\n",
       "      <td>false</td>\n",
       "      <td>casual drinker</td>\n",
       "      <td>...</td>\n",
       "      <td>independent</td>\n",
       "      <td>1991.0</td>\n",
       "      <td>eco-friendly</td>\n",
       "      <td>hard-worker</td>\n",
       "      <td>Catholic</td>\n",
       "      <td>student</td>\n",
       "      <td>black</td>\n",
       "      <td>64.0</td>\n",
       "      <td>medium</td>\n",
       "      <td>1.75</td>\n",
       "    </tr>\n",
       "    <tr>\n",
       "      <th>3</th>\n",
       "      <td>135109</td>\n",
       "      <td>none</td>\n",
       "      <td>U1020</td>\n",
       "      <td>2.0</td>\n",
       "      <td>2.0</td>\n",
       "      <td>1.0</td>\n",
       "      <td>18.878189</td>\n",
       "      <td>-99.222969</td>\n",
       "      <td>false</td>\n",
       "      <td>abstemious</td>\n",
       "      <td>...</td>\n",
       "      <td>independent</td>\n",
       "      <td>1982.0</td>\n",
       "      <td>technology</td>\n",
       "      <td>hard-worker</td>\n",
       "      <td>Catholic</td>\n",
       "      <td>professional</td>\n",
       "      <td>blue</td>\n",
       "      <td>40.0</td>\n",
       "      <td>medium</td>\n",
       "      <td>1.68</td>\n",
       "    </tr>\n",
       "    <tr>\n",
       "      <th>4</th>\n",
       "      <td>135109</td>\n",
       "      <td>none</td>\n",
       "      <td>U1051</td>\n",
       "      <td>1.0</td>\n",
       "      <td>1.0</td>\n",
       "      <td>1.0</td>\n",
       "      <td>18.877719</td>\n",
       "      <td>-99.222990</td>\n",
       "      <td>false</td>\n",
       "      <td>casual drinker</td>\n",
       "      <td>...</td>\n",
       "      <td>independent</td>\n",
       "      <td>1979.0</td>\n",
       "      <td>variety</td>\n",
       "      <td>thrifty-protector</td>\n",
       "      <td>none</td>\n",
       "      <td>professional</td>\n",
       "      <td>blue</td>\n",
       "      <td>74.0</td>\n",
       "      <td>medium</td>\n",
       "      <td>1.76</td>\n",
       "    </tr>\n",
       "  </tbody>\n",
       "</table>\n",
       "<p>5 rows × 24 columns</p>\n",
       "</div>"
      ],
      "text/plain": [
       "   placeID parking_lot userID  rating  food_rating  service_rating   latitude  \\\n",
       "0   135111      public    NaN     NaN          NaN             NaN        NaN   \n",
       "1   135110        none    NaN     NaN          NaN             NaN        NaN   \n",
       "2   135109        none  U1030     0.0          0.0             0.0  18.844818   \n",
       "3   135109        none  U1020     2.0          2.0             1.0  18.878189   \n",
       "4   135109        none  U1051     1.0          1.0             1.0  18.877719   \n",
       "\n",
       "   longitude smoker     drink_level  ...        hijos birth_year  \\\n",
       "0        NaN    NaN             NaN  ...          NaN        NaN   \n",
       "1        NaN    NaN             NaN  ...          NaN        NaN   \n",
       "2 -99.182758  false  casual drinker  ...  independent     1991.0   \n",
       "3 -99.222969  false      abstemious  ...  independent     1982.0   \n",
       "4 -99.222990  false  casual drinker  ...  independent     1979.0   \n",
       "\n",
       "       interest        personality  religion      activity  color weight  \\\n",
       "0           NaN                NaN       NaN           NaN    NaN    NaN   \n",
       "1           NaN                NaN       NaN           NaN    NaN    NaN   \n",
       "2  eco-friendly        hard-worker  Catholic       student  black   64.0   \n",
       "3    technology        hard-worker  Catholic  professional   blue   40.0   \n",
       "4       variety  thrifty-protector      none  professional   blue   74.0   \n",
       "\n",
       "   budget height  \n",
       "0     NaN    NaN  \n",
       "1     NaN    NaN  \n",
       "2  medium   1.75  \n",
       "3  medium   1.68  \n",
       "4  medium   1.76  \n",
       "\n",
       "[5 rows x 24 columns]"
      ]
     },
     "execution_count": 7,
     "metadata": {},
     "output_type": "execute_result"
    }
   ],
   "source": [
    "df = pd.merge(df_temp, df3, on=\"userID\", how=\"left\")\n",
    "df.head()"
   ]
  },
  {
   "cell_type": "markdown",
   "id": "80R12m4YUcGM",
   "metadata": {
    "id": "80R12m4YUcGM"
   },
   "source": [
    "### b. Missing Values"
   ]
  },
  {
   "cell_type": "code",
   "execution_count": 8,
   "id": "WxhXGNJ8Ue3V",
   "metadata": {
    "colab": {
     "base_uri": "https://localhost:8080/"
    },
    "id": "WxhXGNJ8Ue3V",
    "outputId": "f99c8b08-d763-4d0c-ffc4-ffa4c10dae38"
   },
   "outputs": [
    {
     "data": {
      "text/plain": [
       "placeID               0\n",
       "parking_lot           0\n",
       "userID              572\n",
       "rating              572\n",
       "food_rating         572\n",
       "service_rating      572\n",
       "latitude            572\n",
       "longitude           572\n",
       "smoker              572\n",
       "drink_level         572\n",
       "dress_preference    572\n",
       "ambience            572\n",
       "transport           572\n",
       "marital_status      572\n",
       "hijos               572\n",
       "birth_year          572\n",
       "interest            572\n",
       "personality         572\n",
       "religion            572\n",
       "activity            572\n",
       "color               572\n",
       "weight              572\n",
       "budget              572\n",
       "height              572\n",
       "dtype: int64"
      ]
     },
     "execution_count": 8,
     "metadata": {},
     "output_type": "execute_result"
    }
   ],
   "source": [
    "df.isna().sum()"
   ]
  },
  {
   "cell_type": "markdown",
   "id": "hTLxh6NKU0QU",
   "metadata": {
    "id": "hTLxh6NKU0QU"
   },
   "source": [
    "We find that there are few rows which contains the missing values and to deal with this we will remove such rows because we are only interested in the parking lot type and the overall ratings of the restaurant. So, we will now remove the rows containing the nan values"
   ]
  },
  {
   "cell_type": "code",
   "execution_count": 9,
   "id": "g9sy183hVfL0",
   "metadata": {
    "id": "g9sy183hVfL0"
   },
   "outputs": [],
   "source": [
    "df.dropna(inplace=True)"
   ]
  },
  {
   "cell_type": "code",
   "execution_count": 10,
   "id": "qLVGijWQVkUa",
   "metadata": {
    "colab": {
     "base_uri": "https://localhost:8080/"
    },
    "id": "qLVGijWQVkUa",
    "outputId": "71d62de6-ed73-4ead-edca-07254b6429a8"
   },
   "outputs": [
    {
     "data": {
      "text/plain": [
       "placeID             0\n",
       "parking_lot         0\n",
       "userID              0\n",
       "rating              0\n",
       "food_rating         0\n",
       "service_rating      0\n",
       "latitude            0\n",
       "longitude           0\n",
       "smoker              0\n",
       "drink_level         0\n",
       "dress_preference    0\n",
       "ambience            0\n",
       "transport           0\n",
       "marital_status      0\n",
       "hijos               0\n",
       "birth_year          0\n",
       "interest            0\n",
       "personality         0\n",
       "religion            0\n",
       "activity            0\n",
       "color               0\n",
       "weight              0\n",
       "budget              0\n",
       "height              0\n",
       "dtype: int64"
      ]
     },
     "execution_count": 10,
     "metadata": {},
     "output_type": "execute_result"
    }
   ],
   "source": [
    "df.isna().sum()"
   ]
  },
  {
   "cell_type": "markdown",
   "id": "M5krMpFJVmjV",
   "metadata": {
    "id": "M5krMpFJVmjV"
   },
   "source": [
    "Missing values are all removed"
   ]
  },
  {
   "cell_type": "markdown",
   "id": "0ZQKcTCPfsRU",
   "metadata": {
    "id": "0ZQKcTCPfsRU"
   },
   "source": [
    "### c. Ensuring correct datatype"
   ]
  },
  {
   "cell_type": "code",
   "execution_count": 11,
   "id": "DIKtXewPfxDE",
   "metadata": {
    "colab": {
     "base_uri": "https://localhost:8080/"
    },
    "id": "DIKtXewPfxDE",
    "outputId": "4aab352c-4b93-4072-d82c-f06967bc2308"
   },
   "outputs": [
    {
     "name": "stdout",
     "output_type": "stream",
     "text": [
      "<class 'pandas.core.frame.DataFrame'>\n",
      "Int64Index: 1161 entries, 2 to 1645\n",
      "Data columns (total 24 columns):\n",
      " #   Column            Non-Null Count  Dtype  \n",
      "---  ------            --------------  -----  \n",
      " 0   placeID           1161 non-null   int64  \n",
      " 1   parking_lot       1161 non-null   object \n",
      " 2   userID            1161 non-null   object \n",
      " 3   rating            1161 non-null   float64\n",
      " 4   food_rating       1161 non-null   float64\n",
      " 5   service_rating    1161 non-null   float64\n",
      " 6   latitude          1161 non-null   float64\n",
      " 7   longitude         1161 non-null   float64\n",
      " 8   smoker            1161 non-null   object \n",
      " 9   drink_level       1161 non-null   object \n",
      " 10  dress_preference  1161 non-null   object \n",
      " 11  ambience          1161 non-null   object \n",
      " 12  transport         1161 non-null   object \n",
      " 13  marital_status    1161 non-null   object \n",
      " 14  hijos             1161 non-null   object \n",
      " 15  birth_year        1161 non-null   float64\n",
      " 16  interest          1161 non-null   object \n",
      " 17  personality       1161 non-null   object \n",
      " 18  religion          1161 non-null   object \n",
      " 19  activity          1161 non-null   object \n",
      " 20  color             1161 non-null   object \n",
      " 21  weight            1161 non-null   float64\n",
      " 22  budget            1161 non-null   object \n",
      " 23  height            1161 non-null   float64\n",
      "dtypes: float64(8), int64(1), object(15)\n",
      "memory usage: 226.8+ KB\n"
     ]
    }
   ],
   "source": [
    "df.info()"
   ]
  },
  {
   "cell_type": "markdown",
   "id": "jqtNfcohgBqD",
   "metadata": {
    "id": "jqtNfcohgBqD"
   },
   "source": [
    "We see that format of all the data types are correct with the numerical columns having float64 or int64 type and categorical columns having str (or object) data type."
   ]
  },
  {
   "cell_type": "markdown",
   "id": "IXV15yMEhVRH",
   "metadata": {
    "id": "IXV15yMEhVRH"
   },
   "source": [
    "### d. Removing redundant columns\n",
    "\n",
    "The columns placeID, dress_preference, ambience, birth_year, interest, personality and userID (after we have merged the data) have no significant role in our data analysis part and therefore we can remove this column from our dataset."
   ]
  },
  {
   "cell_type": "code",
   "execution_count": 12,
   "id": "4ku75yqvh93C",
   "metadata": {
    "id": "4ku75yqvh93C"
   },
   "outputs": [],
   "source": [
    "df.drop(columns=['placeID', 'dress_preference', 'ambience', 'birth_year', 'interest', 'personality', 'userID'], inplace=True)"
   ]
  },
  {
   "cell_type": "code",
   "execution_count": 13,
   "id": "b875bd61",
   "metadata": {},
   "outputs": [
    {
     "name": "stdout",
     "output_type": "stream",
     "text": [
      "<class 'pandas.core.frame.DataFrame'>\n",
      "Int64Index: 1161 entries, 2 to 1645\n",
      "Data columns (total 17 columns):\n",
      " #   Column          Non-Null Count  Dtype  \n",
      "---  ------          --------------  -----  \n",
      " 0   parking_lot     1161 non-null   object \n",
      " 1   rating          1161 non-null   float64\n",
      " 2   food_rating     1161 non-null   float64\n",
      " 3   service_rating  1161 non-null   float64\n",
      " 4   latitude        1161 non-null   float64\n",
      " 5   longitude       1161 non-null   float64\n",
      " 6   smoker          1161 non-null   object \n",
      " 7   drink_level     1161 non-null   object \n",
      " 8   transport       1161 non-null   object \n",
      " 9   marital_status  1161 non-null   object \n",
      " 10  hijos           1161 non-null   object \n",
      " 11  religion        1161 non-null   object \n",
      " 12  activity        1161 non-null   object \n",
      " 13  color           1161 non-null   object \n",
      " 14  weight          1161 non-null   float64\n",
      " 15  budget          1161 non-null   object \n",
      " 16  height          1161 non-null   float64\n",
      "dtypes: float64(7), object(10)\n",
      "memory usage: 163.3+ KB\n"
     ]
    }
   ],
   "source": [
    "df.info()"
   ]
  },
  {
   "cell_type": "markdown",
   "id": "QX7UTnxpiL1U",
   "metadata": {
    "id": "QX7UTnxpiL1U"
   },
   "source": [
    "# 3. Data Visualisation"
   ]
  },
  {
   "cell_type": "markdown",
   "id": "unJXxfxTi7Ef",
   "metadata": {
    "id": "unJXxfxTi7Ef"
   },
   "source": [
    "### a. Scatter plot\n",
    "\n",
    "Plotting the height and weight of the user with the hue based on the rating value to see if there forms any cluster to segment the customer"
   ]
  },
  {
   "cell_type": "code",
   "execution_count": 14,
   "id": "_stlN8LPiMw4",
   "metadata": {
    "colab": {
     "base_uri": "https://localhost:8080/",
     "height": 295
    },
    "id": "_stlN8LPiMw4",
    "outputId": "50b87367-6854-4f0b-f5d2-3f7a3eab38c1"
   },
   "outputs": [
    {
     "data": {
      "image/png": "[encoded data removed]",
      "text/plain": [
       "<Figure size 432x288 with 1 Axes>"
      ]
     },
     "metadata": {
      "needs_background": "light"
     },
     "output_type": "display_data"
    }
   ],
   "source": [
    "colors = ['red','black','blue']\n",
    "scatter = plt.scatter(df['height'], df['weight'], c=df['rating'], cmap=matplotlib.colors.ListedColormap(colors))\n",
    "plt.legend(handles=scatter.legend_elements()[0], labels=[\"0\", \"1\", \"2\"])\n",
    "plt.xlabel(\"Height\")\n",
    "plt.ylabel(\"Weight\")\n",
    "plt.title(\"Clustering Height vs Weight of user based on rating\")\n",
    "plt.show()"
   ]
  },
  {
   "cell_type": "markdown",
   "id": "nq4mkjWvp3jN",
   "metadata": {
    "id": "nq4mkjWvp3jN"
   },
   "source": [
    "### Result\n",
    "\n",
    "We don't find different clusters (and hence any relationship) between the weight and height of the users with respect to the ratings because they are all cluttered at a single place and no 2 different clusters are being formed."
   ]
  },
  {
   "cell_type": "markdown",
   "id": "B2bnnWBsqnGd",
   "metadata": {
    "id": "B2bnnWBsqnGd"
   },
   "source": [
    "### b. Bar plot \n",
    "\n",
    "We will be plotting a bar plot between ratings and parking lot type to observe a pattern or relation among them."
   ]
  },
  {
   "cell_type": "code",
   "execution_count": 15,
   "id": "VUMNF0airg_P",
   "metadata": {
    "colab": {
     "base_uri": "https://localhost:8080/",
     "height": 336
    },
    "id": "VUMNF0airg_P",
    "outputId": "b042a76e-ec8d-4a00-ebd7-09dca2cee662"
   },
   "outputs": [
    {
     "data": {
      "image/png": "[encoded data removed]",
      "text/plain": [
       "<Figure size 432x288 with 1 Axes>"
      ]
     },
     "metadata": {
      "needs_background": "light"
     },
     "output_type": "display_data"
    }
   ],
   "source": [
    "pd.crosstab(df['parking_lot'],df['rating']).plot(kind=\"bar\",stacked=True)\n",
    "plt.show()"
   ]
  },
  {
   "cell_type": "markdown",
   "id": "4jldhTisxDpN",
   "metadata": {
    "id": "4jldhTisxDpN"
   },
   "source": [
    "### Result\n",
    "\n",
    "We observe that the distribution of the ratings among different parking lot categories is mostly the same. Although the number of samples of dataset are higher in none and yes parking type but the distribution of the rating is most the same."
   ]
  },
  {
   "cell_type": "markdown",
   "id": "eihckuo2sqE4",
   "metadata": {
    "id": "eihckuo2sqE4"
   },
   "source": [
    "### c. Pie chart\n",
    "\n",
    "We will check the distribution of the value count of the ratings via pie chart"
   ]
  },
  {
   "cell_type": "code",
   "execution_count": 16,
   "id": "v9OzTo_6rxRR",
   "metadata": {
    "colab": {
     "base_uri": "https://localhost:8080/",
     "height": 303
    },
    "id": "v9OzTo_6rxRR",
    "outputId": "449970e8-a50b-4550-baba-1cece6d7267d"
   },
   "outputs": [
    {
     "data": {
      "image/png": "[encoded data removed]",
      "text/plain": [
       "<Figure size 720x360 with 1 Axes>"
      ]
     },
     "metadata": {},
     "output_type": "display_data"
    }
   ],
   "source": [
    "def label_function(val):\n",
    "    return f'{val / 100 * len(df):.0f}\\n{val:.0f}%'\n",
    "\n",
    "fig, ax1 = plt.subplots(ncols=1, figsize=(10, 5))\n",
    "\n",
    "df.groupby('rating').size().plot(kind='pie', autopct=label_function, textprops={'fontsize': 20},\n",
    "                                  colors=['tomato', 'gold', 'skyblue'], ax=ax1)\n",
    "ax1.set_ylabel('Per rating', size=18)\n",
    "plt.show()"
   ]
  },
  {
   "cell_type": "markdown",
   "id": "YoBL-12bwXM5",
   "metadata": {
    "id": "YoBL-12bwXM5"
   },
   "source": [
    "### Result\n",
    "\n",
    "So the classes are not imbalanced as the distribution of the value of the ratings (0, 1 and 2) is almost balanced (with 0 class being on somewhat lower end and 2 being on the higher end). This is important to note down because if the classes are balanced then any classification algorithm in ML can be easily applied without worrying about the results or accuracy being affected."
   ]
  },
  {
   "cell_type": "markdown",
   "id": "8iAweRlgnGOU",
   "metadata": {
    "id": "8iAweRlgnGOU"
   },
   "source": [
    "### d. Bar plot\n",
    "\n",
    "We will be plotting a bar plot between ratings and activities and also between religion and ratings to observe a pattern or relation between them."
   ]
  },
  {
   "cell_type": "code",
   "execution_count": 17,
   "id": "9AkOruVWnFLp",
   "metadata": {
    "colab": {
     "base_uri": "https://localhost:8080/",
     "height": 338
    },
    "id": "9AkOruVWnFLp",
    "outputId": "918f2daf-12c6-45c1-f5a8-c1c614483089"
   },
   "outputs": [
    {
     "data": {
      "image/png": "[encoded data removed]",
      "text/plain": [
       "<Figure size 432x288 with 1 Axes>"
      ]
     },
     "metadata": {
      "needs_background": "light"
     },
     "output_type": "display_data"
    }
   ],
   "source": [
    "pd.crosstab(df['activity'],df['rating']).plot(kind=\"bar\",stacked=True)\n",
    "plt.show()"
   ]
  },
  {
   "cell_type": "code",
   "execution_count": 18,
   "id": "1xGVQGwOnefs",
   "metadata": {
    "colab": {
     "base_uri": "https://localhost:8080/",
     "height": 314
    },
    "id": "1xGVQGwOnefs",
    "outputId": "d78487a7-2bdb-49a4-f0fb-759791fe8b8c"
   },
   "outputs": [
    {
     "data": {
      "image/png": "[encoded data removed]",
      "text/plain": [
       "<Figure size 432x288 with 1 Axes>"
      ]
     },
     "metadata": {
      "needs_background": "light"
     },
     "output_type": "display_data"
    }
   ],
   "source": [
    "pd.crosstab(df['religion'],df['rating']).plot(kind=\"bar\",stacked=True)\n",
    "plt.show()"
   ]
  },
  {
   "cell_type": "markdown",
   "id": "eEeoVAecnmbh",
   "metadata": {
    "id": "eEeoVAecnmbh"
   },
   "source": [
    "### Result\n",
    "\n",
    "We see that the distribution of the ratings among different religions and also among various activites is mostly the same. So, the ratings is not effected by any religion or any activity of the user. "
   ]
  },
  {
   "cell_type": "markdown",
   "id": "gkItuhN-mm-n",
   "metadata": {
    "id": "gkItuhN-mm-n"
   },
   "source": [
    "## Conclusion\n",
    "\n",
    "In the above analysis, we compared (by plotting scatter and bar plots) various users attributes such as the weight and height of the user, the activity of the user, and the religion of the user with the overall rating of the restaurant. We found that there was no relation between any of the user's attribute with the ratings.\n",
    "\n",
    "We also plotted a bar chart to see the effect of various parking lot types on the ratings and found that the distribution of the ratings among different parking lot categories is mostly the same which means that the parking lot type also had NO effect on the overall rating of the restaurant.\n",
    "\n",
    "So, in order to develop this work further, a more detailed study of the different features such as food_ratings and the ratings of the services provided by the restaurant could also be investigated, because they might seem to be a major factor contributing to the overall rating of the restaurant."
   ]
  }
 ],
 "metadata": {
  "colab": {
   "collapsed_sections": [],
   "name": "EDA.ipynb",
   "provenance": []
  },
  "kernelspec": {
   "display_name": "Python 3 (ipykernel)",
   "language": "python",
   "name": "python3"
  },
  "language_info": {
   "codemirror_mode": {
    "name": "ipython",
    "version": 3
   },
   "file_extension": ".py",
   "mimetype": "text/x-python",
   "name": "python",
   "nbconvert_exporter": "python",
   "pygments_lexer": "ipython3",
   "version": "3.9.7"
  }
 },
 "nbformat": 4,
 "nbformat_minor": 5
}
